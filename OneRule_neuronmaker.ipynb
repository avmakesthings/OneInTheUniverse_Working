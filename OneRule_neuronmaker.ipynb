{
 "cells": [
  {
   "cell_type": "code",
   "execution_count": 155,
   "metadata": {},
   "outputs": [],
   "source": [
    "import numpy as N, pylab as M\n",
    "import ipyvolume as ipv"
   ]
  },
  {
   "cell_type": "code",
   "execution_count": 158,
   "metadata": {},
   "outputs": [],
   "source": [
    "## Make a random, spherically symmetric point cloud for nodes\n",
    "rmax = 100\n",
    "np=3000\n",
    "rs = N.random.RandomState(234) #Random seed\n",
    "nlink=200\n",
    "\n",
    "# profileindex controls the distribution of radii.\n",
    "# Set it to 1./3. for a volumetrically uniform profile \n",
    "\n",
    "profileindex=1./3.\n",
    "r=rmax * (N.arange(np)/float(np))**profileindex\n",
    "\n",
    "##Fully random\n",
    "costheta=1.-2.*rs.rand(np)\n",
    "phi = 2.*N.pi*rs.rand(np)\n",
    "\n",
    "##For maximum uniformity\n",
    "#step = 1./float(np+1)\n",
    "#costheta = 1.-2.*N.arange(step/2., 1.-step/2.,step)\n",
    "#phi=2.*N.pi*N.arange(step/2., 1.-step/2.,step)\n",
    "#costheta = costheta[rs.permutation(np)]\n",
    "#phi = phi[rs.permutation(np)]\n",
    "\n",
    "sintheta = N.sqrt(1.-costheta**2)\n",
    "\n",
    "xyz = N.empty((np,3),dtype=N.float32)\n",
    "xyz[:,0] = r*sintheta*N.cos(phi)\n",
    "xyz[:,1] = r*sintheta*N.sin(phi)\n",
    "xyz[:,2] = r*costheta"
   ]
  },
  {
   "cell_type": "code",
   "execution_count": 159,
   "metadata": {
    "scrolled": true
   },
   "outputs": [
    {
     "data": {
      "application/vnd.jupyter.widget-view+json": {
       "model_id": "d9050233fff14d5293e45aa7a91cb4b2",
       "version_major": 2,
       "version_minor": 0
      },
      "text/plain": [
       "VBox(children=(Figure(camera=PerspectiveCamera(fov=46.0, position=(0.0, 0.0, 2.0), quaternion=(0.0, 0.0, 0.0, …"
      ]
     },
     "metadata": {},
     "output_type": "display_data"
    }
   ],
   "source": [
    "# Show random node set\n",
    "fig = ipv.figure(width=400, height=400)\n",
    "ipv.scatter(xyz[:1000,0],xyz[:1000,1],xyz[:1000,2],marker='sphere',size=1)\n",
    "ipv.show()"
   ]
  },
  {
   "cell_type": "code",
   "execution_count": 160,
   "metadata": {},
   "outputs": [],
   "source": [
    "# Grow neuron grafted onto nodes\n",
    "\n",
    "#Does the neuron include node i?\n",
    "inneuron=N.zeros(np,dtype=N.bool)\n",
    "#The soma point is in the neuron\n",
    "inneuron[0]=True\n",
    "#What is a node's parent?\n",
    "linkedto= N.zeros(np,dtype=N.int) \n",
    "#What is the distance within the neuron to the node, through its parent nodes?\n",
    "#(Necessarily the shortest distance, since nodes don't have multiple parents)\n",
    "distinneuron = N.zeros(np,dtype=N.float)\n",
    "#Branching parameter: main \"One Rule to Make them All\" parameter\n",
    "bf=0.2\n",
    "for link in N.arange(nlink):\n",
    "    # Look only for nodes to add not currently in the neuron. \n",
    "    # nodes don't have multiple parents! -- not quite like the cosmic web\n",
    "    wout = N.where(N.logical_not(inneuron))[0]\n",
    "\n",
    "    #Loop through particles within the neuron\n",
    "    win = N.where(inneuron)[0]\n",
    "    for iwin in range(len(win)):\n",
    "        dist2neuroni=N.sqrt(N.sum((xyz[wout,:]-xyz[win[iwin],:])**2,axis=1))+ bf*distinneuron[win[iwin]]\n",
    "        if iwin == 0:\n",
    "            dist2neuron=N.copy(dist2neuroni)\n",
    "        else:\n",
    "            dist2neuron = N.minimum(dist2neuron,dist2neuroni)\n",
    "    # dist2neuron is the minimum distance from each node outside the neuron\n",
    "    # to any node inside the neuron\n",
    "    wherelink = N.argmin(dist2neuron)\n",
    "    addedpoint = wout[wherelink]\n",
    "    inneuron[addedpoint] = True\n",
    "    #figure out which parent it should be attached to\n",
    "    # (same computation as inside the loop, but now the array is over possible parent nodes\n",
    "    dist2added = N.sqrt(N.sum((xyz[win,:]-xyz[wout[wherelink],:])**2,axis=1)) + bf*distinneuron[win]\n",
    "    # assign the parent\n",
    "    linkedto[addedpoint] = win[N.argmin(dist2added)]\n",
    "    # Already have distinneuron for the parent, so we can just add the dist to the parent\n",
    "    # to get distinneuron for the child\n",
    "    distinneuron[addedpoint] = dist2neuron[wherelink] + distinneuron[linkedto[addedpoint]]"
   ]
  },
  {
   "cell_type": "code",
   "execution_count": 162,
   "metadata": {
    "scrolled": true
   },
   "outputs": [
    {
     "data": {
      "application/vnd.jupyter.widget-view+json": {
       "model_id": "5dbed4e4fe174732bd677fe76e5ed396",
       "version_major": 2,
       "version_minor": 0
      },
      "text/plain": [
       "VBox(children=(Figure(camera=PerspectiveCamera(fov=46.0, position=(0.0, 0.0, 2.0), quaternion=(0.0, 0.0, 0.0, …"
      ]
     },
     "metadata": {},
     "output_type": "display_data"
    }
   ],
   "source": [
    "# Display lines\n",
    "win = N.where(inneuron)[0]\n",
    "fig = ipv.figure(width=400, height=400)\n",
    "\n",
    "for i in N.arange(1,len(win)): \n",
    "    # don't start at 0 since we're plotting lines from a node to its parent\n",
    "    wi = win[i]\n",
    "    lineids = [wi,linkedto[wi]]\n",
    "    ipv.plot(xyz[lineids,0],xyz[lineids,1],xyz[lineids,2])\n",
    "    \n",
    "ipv.show()"
   ]
  },
  {
   "cell_type": "code",
   "execution_count": null,
   "metadata": {},
   "outputs": [],
   "source": []
  }
 ],
 "metadata": {
  "kernelspec": {
   "display_name": "Python 3",
   "language": "python",
   "name": "python3"
  },
  "language_info": {
   "codemirror_mode": {
    "name": "ipython",
    "version": 3
   },
   "file_extension": ".py",
   "mimetype": "text/x-python",
   "name": "python",
   "nbconvert_exporter": "python",
   "pygments_lexer": "ipython3",
   "version": "3.7.2"
  }
 },
 "nbformat": 4,
 "nbformat_minor": 2
}
